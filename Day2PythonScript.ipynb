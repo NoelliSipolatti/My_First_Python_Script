{
  "nbformat": 4,
  "nbformat_minor": 0,
  "metadata": {
    "colab": {
      "provenance": []
    },
    "kernelspec": {
      "name": "python3",
      "display_name": "Python 3"
    },
    "language_info": {
      "name": "python"
    }
  },
  "cells": [
    {
      "cell_type": "markdown",
      "source": [
        "Data Technician/ Skills Bootcamp\n",
        "Python - Second Day   \n",
        "Just IT\n",
        "31/10/2023"
      ],
      "metadata": {
        "id": "kL1PciAw5Oji"
      }
    },
    {
      "cell_type": "code",
      "source": [
        "#Updating a list - change a value, by using the index number\n",
        "thislist = [\"apple\", \"banana\", \"cherry\"]\n",
        "thislist[1] = \"blackcurrant\"\n",
        "print(thislist)"
      ],
      "metadata": {
        "colab": {
          "base_uri": "https://localhost:8080/"
        },
        "id": "LfjZ_SYW5ecs",
        "outputId": "179f81b9-43a3-4b1a-a683-2b29343d0298"
      },
      "execution_count": 1,
      "outputs": [
        {
          "output_type": "stream",
          "name": "stdout",
          "text": [
            "['apple', 'blackcurrant', 'cherry']\n"
          ]
        }
      ]
    },
    {
      "cell_type": "markdown",
      "source": [],
      "metadata": {
        "id": "-CErXzhYpm4r"
      }
    },
    {
      "cell_type": "code",
      "source": [
        "#Updating a list - add one more item to the end of the list\n",
        "thislist = [\"apple\", \"banana\", \"cherry\"]\n",
        "thislist.append(\"orange\")\n",
        "print(thislist)\n"
      ],
      "metadata": {
        "colab": {
          "base_uri": "https://localhost:8080/"
        },
        "id": "pYiOQTg95k0Q",
        "outputId": "d3140577-9bba-44ba-c564-1c4b20cd0bed"
      },
      "execution_count": 2,
      "outputs": [
        {
          "output_type": "stream",
          "name": "stdout",
          "text": [
            "['apple', 'banana', 'cherry', 'orange']\n"
          ]
        }
      ]
    },
    {
      "cell_type": "code",
      "source": [
        "#Updating List - The insert () method inserts an item at the specified index\n",
        "thislist = [\"apple\", \"banana\", \"cherry\"]\n",
        "thislist.insert(2, \"watermelon\")\n",
        "print(thislist)"
      ],
      "metadata": {
        "colab": {
          "base_uri": "https://localhost:8080/"
        },
        "id": "WpLY0z9w5lAp",
        "outputId": "474cd124-6ec9-4f00-d149-d3cfdfb88981"
      },
      "execution_count": 3,
      "outputs": [
        {
          "output_type": "stream",
          "name": "stdout",
          "text": [
            "['apple', 'banana', 'watermelon', 'cherry']\n"
          ]
        }
      ]
    },
    {
      "cell_type": "code",
      "source": [
        "#Updating List - To reverse a list use reverse () method\n",
        "thislist = [\"apple\", \"banana\", \"cherry\"]\n",
        "thislist.reverse()\n",
        "print(thislist)"
      ],
      "metadata": {
        "colab": {
          "base_uri": "https://localhost:8080/"
        },
        "id": "JVGd8qgQ5lJk",
        "outputId": "0ebd3dbd-78c2-417e-ab8a-4e98b21d2547"
      },
      "execution_count": 4,
      "outputs": [
        {
          "output_type": "stream",
          "name": "stdout",
          "text": [
            "['cherry', 'banana', 'apple']\n"
          ]
        }
      ]
    },
    {
      "cell_type": "code",
      "source": [
        "#Activity - Write a line of code that prompts the user to replace the middle number in the list with an integer number entered by the user\n",
        "#Step1\n",
        "the_hat=[\"1\",\"2\",\"3\",\"4\",\"5\"]\n",
        "user_number=input(\"Choose a number: \")\n",
        "the_hat[2]=int(user_number)\n",
        "print(the_hat)"
      ],
      "metadata": {
        "colab": {
          "base_uri": "https://localhost:8080/"
        },
        "id": "B3JVw1VnB2mM",
        "outputId": "4f218a9c-296f-4126-e1a1-30c5acb65ae4"
      },
      "execution_count": 5,
      "outputs": [
        {
          "output_type": "stream",
          "name": "stdout",
          "text": [
            "Choose a number: 2\n",
            "['1', '2', 2, '4', '5']\n"
          ]
        }
      ]
    },
    {
      "cell_type": "code",
      "source": [
        "#Step2 - Write a line of code that removes the last element from the list\n",
        "the_hat.pop(4)\n",
        "print(the_hat)"
      ],
      "metadata": {
        "colab": {
          "base_uri": "https://localhost:8080/"
        },
        "id": "D2nIFnLKGga0",
        "outputId": "04b90c64-836c-4bbc-c13f-6dc2cb309719"
      },
      "execution_count": 6,
      "outputs": [
        {
          "output_type": "stream",
          "name": "stdout",
          "text": [
            "['1', '2', 2, '4']\n"
          ]
        }
      ]
    },
    {
      "cell_type": "code",
      "source": [
        "#Step3 - Write a line of code that prints the length of the existing list\n",
        "len(the_hat)"
      ],
      "metadata": {
        "colab": {
          "base_uri": "https://localhost:8080/"
        },
        "id": "-X-YAPrBHH3h",
        "outputId": "eaeb015c-4131-43a9-aefd-4f5e434d6028"
      },
      "execution_count": 7,
      "outputs": [
        {
          "output_type": "execute_result",
          "data": {
            "text/plain": [
              "4"
            ]
          },
          "metadata": {},
          "execution_count": 7
        }
      ]
    },
    {
      "cell_type": "code",
      "source": [
        "#Tuple examples - Tuple are ordered, unchangeable and indexed\n",
        "mytuple = (\"apple\", \"banana\", \"cherry\")\n",
        "print(mytuple)\n",
        "\n",
        "tuple_1 = (1, 2, 4, 8)\n",
        "tuple_2 = 1., .5, .25, .125\n",
        "print(tuple_1)\n",
        "print(tuple_2)\n"
      ],
      "metadata": {
        "colab": {
          "base_uri": "https://localhost:8080/"
        },
        "id": "Ms9mYpG976Yc",
        "outputId": "5fae3e7e-1811-4bb4-9295-a0b9cfff40fa"
      },
      "execution_count": 8,
      "outputs": [
        {
          "output_type": "stream",
          "name": "stdout",
          "text": [
            "('apple', 'banana', 'cherry')\n",
            "(1, 2, 4, 8)\n",
            "(1.0, 0.5, 0.25, 0.125)\n"
          ]
        }
      ]
    },
    {
      "cell_type": "code",
      "source": [
        "#Set examples - They are unordered, unchangeable and unindexed\n",
        "mySet= {\"apple\", \"banana\", \"cherry\"}\n",
        "print(mySet)\n",
        "\n",
        "for fruit in mySet:\n",
        " print(fruit)"
      ],
      "metadata": {
        "colab": {
          "base_uri": "https://localhost:8080/"
        },
        "id": "gxLYDbDy8HEH",
        "outputId": "6961df40-0ce8-42e9-c0a6-df96d8eeb985"
      },
      "execution_count": 9,
      "outputs": [
        {
          "output_type": "stream",
          "name": "stdout",
          "text": [
            "{'apple', 'cherry', 'banana'}\n",
            "apple\n",
            "cherry\n",
            "banana\n"
          ]
        }
      ]
    },
    {
      "cell_type": "code",
      "source": [
        "#Dictionary example - They are ordered, changeable and do not allow duplicates\n",
        "mydict = {\n",
        "\"brand\": \"Ford\",\n",
        "\"model\": \"Mustang\",\n",
        "\"year\": 1964\n",
        "}\n",
        "print(mydict)"
      ],
      "metadata": {
        "colab": {
          "base_uri": "https://localhost:8080/"
        },
        "id": "Q8vJZBjI-uPd",
        "outputId": "b050480f-1622-4476-e104-3d0740bbcfd9"
      },
      "execution_count": 10,
      "outputs": [
        {
          "output_type": "stream",
          "name": "stdout",
          "text": [
            "{'brand': 'Ford', 'model': 'Mustang', 'year': 1964}\n"
          ]
        }
      ]
    },
    {
      "cell_type": "code",
      "source": [
        "#Create a dictionary of 3 fruit with their correspond cost/ display all fruits only\n",
        "dic_fruit={\n",
        "    \"apple\":0.45,\n",
        "    \"banana\":0.89,\n",
        "    \"cherry\":0.75}\n",
        "dic_fruit.keys()\n"
      ],
      "metadata": {
        "colab": {
          "base_uri": "https://localhost:8080/"
        },
        "id": "xwLBOS1eXFHl",
        "outputId": "c6d01cc5-c93a-4f5c-f94b-2f6bdd52c33f"
      },
      "execution_count": 11,
      "outputs": [
        {
          "output_type": "execute_result",
          "data": {
            "text/plain": [
              "dict_keys(['apple', 'banana', 'cherry'])"
            ]
          },
          "metadata": {},
          "execution_count": 11
        }
      ]
    },
    {
      "cell_type": "code",
      "source": [
        "#Display the cost of the second fruit\n",
        "print(\"\\n\", dic_fruit[\"banana\"])"
      ],
      "metadata": {
        "colab": {
          "base_uri": "https://localhost:8080/"
        },
        "id": "x-0D02u9Yhjo",
        "outputId": "b739eee5-1de4-4850-98bd-e35d55db8ea7"
      },
      "execution_count": 12,
      "outputs": [
        {
          "output_type": "stream",
          "name": "stdout",
          "text": [
            "\n",
            " 0.89\n"
          ]
        }
      ]
    },
    {
      "cell_type": "code",
      "source": [
        "#Ask the user for a fruit and check if the fruit is in the dictionary, if yes, display the cost of the fruit\n",
        "user_fruit=input(\"Name a fruit: \")\n",
        "if user_fruit in dic_fruit:\n",
        "  cost=dic_fruit[user_fruit]\n",
        "  print(\"The cost of the\", user_fruit, \"is\", cost)\n",
        "else:\n",
        "  print(user_fruit, \"This fruit it is not in the dictionary!\")"
      ],
      "metadata": {
        "colab": {
          "base_uri": "https://localhost:8080/"
        },
        "id": "Ff4MUAYFZXni",
        "outputId": "bd8063fa-db2b-44ac-fa5e-827120472a3b"
      },
      "execution_count": 13,
      "outputs": [
        {
          "output_type": "stream",
          "name": "stdout",
          "text": [
            "Name a fruit: banana\n",
            "The cost of the banana is 0.89\n"
          ]
        }
      ]
    },
    {
      "cell_type": "code",
      "source": [
        "#Creating a function\n",
        "def greeting(name):\n",
        "  print(\"Hello\", name)"
      ],
      "metadata": {
        "id": "IhuyYpugdSjc"
      },
      "execution_count": 14,
      "outputs": []
    },
    {
      "cell_type": "code",
      "source": [
        "#Calling a function\n",
        "greeting(\"Allan\")"
      ],
      "metadata": {
        "colab": {
          "base_uri": "https://localhost:8080/"
        },
        "id": "oRDQcH-gdaI6",
        "outputId": "c8a46ad2-769c-4666-af78-64319f5f1668"
      },
      "execution_count": 15,
      "outputs": [
        {
          "output_type": "stream",
          "name": "stdout",
          "text": [
            "Hello Allan\n"
          ]
        }
      ]
    },
    {
      "cell_type": "code",
      "source": [
        "#Functions with parameters\n",
        "def greeting (fname, lname):\n",
        "  print(\"Hello\", fname, lname)\n",
        "\n",
        "greeting (\"Jane\",\"Crane\")"
      ],
      "metadata": {
        "colab": {
          "base_uri": "https://localhost:8080/"
        },
        "id": "_HQAPna0Nru7",
        "outputId": "d86ded74-3ad9-4ad0-c2a5-113e62ba4d84"
      },
      "execution_count": 16,
      "outputs": [
        {
          "output_type": "stream",
          "name": "stdout",
          "text": [
            "Hello Jane Crane\n"
          ]
        }
      ]
    },
    {
      "cell_type": "code",
      "source": [
        "#Functions with the return keyword\n",
        "def number (number1,number2):\n",
        "  answer = number1 + number2\n",
        "  return answer\n",
        "added_number = number(5,5)\n",
        "print(added_number +20)"
      ],
      "metadata": {
        "colab": {
          "base_uri": "https://localhost:8080/"
        },
        "id": "aNIB8DAoNKE2",
        "outputId": "df96030a-3195-4787-acc0-a071f0560274"
      },
      "execution_count": 17,
      "outputs": [
        {
          "output_type": "stream",
          "name": "stdout",
          "text": [
            "30\n"
          ]
        }
      ]
    },
    {
      "cell_type": "code",
      "source": [
        "#Activity - Create functions that will perform some descriptive statistics on a list of number\n",
        "#Create a calculation to perform a mean on the list (store this in a variable)\n",
        "numbers=[2,4,6,8,10,32,10,31]\n",
        "def calculate_mean(numbers):\n",
        " mean = sum(numbers) / len(numbers)\n",
        " return mean\n",
        "mean_result = round(calculate_mean(numbers),1)\n",
        "print(\"Mean:\", mean_result)"
      ],
      "metadata": {
        "colab": {
          "base_uri": "https://localhost:8080/"
        },
        "id": "vwAqUx6IE6TQ",
        "outputId": "ee337e83-8b72-43b2-c3e9-1d4c186ec601"
      },
      "execution_count": 18,
      "outputs": [
        {
          "output_type": "stream",
          "name": "stdout",
          "text": [
            "Mean: 12.9\n"
          ]
        }
      ]
    },
    {
      "cell_type": "code",
      "source": [
        "#Create a calculation to perform a variance on the list (store this in a variable)\n",
        "def calculate_variance(numbers):\n",
        "  mean = calculate_mean(numbers)\n",
        "  variance = sum((x - mean) ** 2 for x in numbers) / len(numbers)\n",
        "  return variance\n",
        "variance_result = round(calculate_variance(numbers),1)\n",
        "print(\"Variance:\", variance_result)"
      ],
      "metadata": {
        "colab": {
          "base_uri": "https://localhost:8080/"
        },
        "id": "iaIbFAjL2fjr",
        "outputId": "971298b1-5725-47a0-fd29-8c7aa190fc22"
      },
      "execution_count": 19,
      "outputs": [
        {
          "output_type": "stream",
          "name": "stdout",
          "text": [
            "Variance: 122.4\n"
          ]
        }
      ]
    },
    {
      "cell_type": "code",
      "source": [
        "#Functions parameters\n",
        "#Passing in multiple parameters\n",
        "def sayhi (name,age):\n",
        "  print(\"Hello\",name, \", you are\", age)\n",
        "\n",
        "#Here we can bypass the order of arguments using keywords arguments\n",
        "sayhi (age=12,name=\"Jessica\")"
      ],
      "metadata": {
        "colab": {
          "base_uri": "https://localhost:8080/"
        },
        "id": "ZPxwaERCpUeA",
        "outputId": "c172ca1f-eec6-46c5-ec68-ddbeb7a53449"
      },
      "execution_count": 20,
      "outputs": [
        {
          "output_type": "stream",
          "name": "stdout",
          "text": [
            "Hello Jessica , you are 12\n"
          ]
        }
      ]
    },
    {
      "cell_type": "code",
      "source": [
        "#Bypassing the number of keyword arguments with *args and **kwargs\n",
        "#args acts as a tuple\n",
        "def function (*args):\n",
        "  print (args)\n",
        "function (1, 23, 42)"
      ],
      "metadata": {
        "colab": {
          "base_uri": "https://localhost:8080/"
        },
        "id": "CgRJ2Qn8rkBj",
        "outputId": "fde9d8c2-b9e8-4e85-f07a-2e22f17d6e26"
      },
      "execution_count": 21,
      "outputs": [
        {
          "output_type": "stream",
          "name": "stdout",
          "text": [
            "(1, 23, 42)\n"
          ]
        }
      ]
    }
  ]
}