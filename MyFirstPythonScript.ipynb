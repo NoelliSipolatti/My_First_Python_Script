{
  "cells": [
    {
      "cell_type": "markdown",
      "metadata": {
        "id": "45nJrPJw45Rg"
      },
      "source": [
        "Data Technician/ Skills Bootcamp\n",
        "Python - First Day   \n",
        "Just IT\n",
        "30/10/2023"
      ]
    },
    {
      "cell_type": "code",
      "execution_count": 1,
      "metadata": {
        "id": "7m3pgHgzVvB8",
        "colab": {
          "base_uri": "https://localhost:8080/"
        },
        "outputId": "76dffac4-1e05-4400-a891-575b6be270ad"
      },
      "outputs": [
        {
          "output_type": "stream",
          "name": "stdout",
          "text": [
            "My name is Monty Python.\n"
          ]
        }
      ],
      "source": [
        "#Print in Python using end=\"\" to put in the same line\n",
        "print(\"My name is \", end='')\n",
        "print(\"Monty Python.\")"
      ]
    },
    {
      "cell_type": "code",
      "execution_count": 2,
      "metadata": {
        "id": "AFmit_gYV6AZ",
        "colab": {
          "base_uri": "https://localhost:8080/"
        },
        "outputId": "0aa2b03d-3555-4d0a-9d1b-35e476149b89"
      },
      "outputs": [
        {
          "output_type": "stream",
          "name": "stdout",
          "text": [
            "My name is Monty Python.\n"
          ]
        }
      ],
      "source": [
        "#Print in Python using sep and space\n",
        "print(\"My\", \"name\", \"is\", \"Monty\", \"Python.\", sep=\" \")"
      ]
    },
    {
      "cell_type": "code",
      "execution_count": 3,
      "metadata": {
        "id": "w5vQ1rPsWmai",
        "colab": {
          "base_uri": "https://localhost:8080/"
        },
        "outputId": "8cc18511-1322-461e-8bb1-550d9c4b40f6"
      },
      "outputs": [
        {
          "output_type": "stream",
          "name": "stdout",
          "text": [
            "Monty*Python.*\n"
          ]
        }
      ],
      "source": [
        "#Print in Python using sep with a character and \\n to start a new line\n",
        "print(\"Monty\", \"Python.\", sep=\"*\", end=\"*\\n\")"
      ]
    },
    {
      "cell_type": "code",
      "execution_count": 4,
      "metadata": {
        "id": "W0bz17eF45rn",
        "colab": {
          "base_uri": "https://localhost:8080/"
        },
        "outputId": "400b8ea7-0b65-4ef0-a454-8254bcf9c349"
      },
      "outputs": [
        {
          "output_type": "stream",
          "name": "stdout",
          "text": [
            "this is my first python code\n",
            "hello how are you doing?\n",
            "78767887\n"
          ]
        }
      ],
      "source": [
        "#Executing a string (chain of charcter) with \"\" or ''\n",
        "print('this is my first python code')\n",
        "print(\"hello\", 'how are you doing?')\n",
        "print(\"78767887\")"
      ]
    },
    {
      "cell_type": "code",
      "execution_count": 5,
      "metadata": {
        "id": "FOVdRu6D7eLn",
        "colab": {
          "base_uri": "https://localhost:8080/"
        },
        "outputId": "188e52fd-c3d2-4a17-90f5-170897933bc2"
      },
      "outputs": [
        {
          "output_type": "stream",
          "name": "stdout",
          "text": [
            "50\n"
          ]
        },
        {
          "output_type": "execute_result",
          "data": {
            "text/plain": [
              "55"
            ]
          },
          "metadata": {},
          "execution_count": 5
        }
      ],
      "source": [
        "#Arithmetic operations\n",
        "print(10+40)\n",
        "45+10"
      ]
    },
    {
      "cell_type": "code",
      "execution_count": 6,
      "metadata": {
        "id": "PDKO9aPebnS4",
        "colab": {
          "base_uri": "https://localhost:8080/"
        },
        "outputId": "193a9b69-b132-4a90-f99b-fd35d2771a57"
      },
      "outputs": [
        {
          "output_type": "stream",
          "name": "stdout",
          "text": [
            "21\n",
            "1\n",
            "625\n"
          ]
        }
      ],
      "source": [
        "print(105//5)\n",
        "print(15%2)\n",
        "print(5**4)"
      ]
    },
    {
      "cell_type": "code",
      "execution_count": 7,
      "metadata": {
        "id": "dNLCAQnk_dwj",
        "colab": {
          "base_uri": "https://localhost:8080/"
        },
        "outputId": "dff3a479-afec-4b5c-9b21-538225692459"
      },
      "outputs": [
        {
          "output_type": "stream",
          "name": "stdout",
          "text": [
            "\t Literature adds to reality, it does not simply describe it. \n",
            " \t It enriches the necessary competencies that daily life requires and provides; \n",
            " \t and in this respect, it irrigates the deserts that our lives have already become.\n"
          ]
        }
      ],
      "source": [
        "#Using \\n to start a new line, in a quotation\n",
        "print(\"\\t Literature adds to reality, it does not simply describe it. \\n \\t It enriches the necessary competencies that daily life requires and provides; \\n \\t and in this respect, it irrigates the deserts that our lives have already become.\")"
      ]
    },
    {
      "cell_type": "code",
      "execution_count": 8,
      "metadata": {
        "id": "7VfLguxWHQUG"
      },
      "outputs": [],
      "source": [
        "#Import a dictionary\n",
        "import math"
      ]
    },
    {
      "cell_type": "code",
      "execution_count": 9,
      "metadata": {
        "id": "Uq8zXsqkPM38",
        "colab": {
          "base_uri": "https://localhost:8080/"
        },
        "outputId": "54fe01f7-0423-4713-d827-e2f39b567732"
      },
      "outputs": [
        {
          "output_type": "execute_result",
          "data": {
            "text/plain": [
              "6.64"
            ]
          },
          "metadata": {},
          "execution_count": 9
        }
      ],
      "source": [
        "#Using the dictionary\n",
        "round(math.log2(100),2)"
      ]
    },
    {
      "cell_type": "code",
      "execution_count": 10,
      "metadata": {
        "id": "pPpIJKAdQNFN",
        "colab": {
          "base_uri": "https://localhost:8080/"
        },
        "outputId": "ae8c11fa-b961-4608-c6f9-d5a342e50c93"
      },
      "outputs": [
        {
          "output_type": "stream",
          "name": "stdout",
          "text": [
            "12\n"
          ]
        },
        {
          "output_type": "execute_result",
          "data": {
            "text/plain": [
              "144"
            ]
          },
          "metadata": {},
          "execution_count": 10
        }
      ],
      "source": [
        "#Declaration of Variable\n",
        "number1=12\n",
        "print(number1)\n",
        "number1*number1"
      ]
    },
    {
      "cell_type": "code",
      "execution_count": 11,
      "metadata": {
        "id": "VNzOv6GwR6P-",
        "colab": {
          "base_uri": "https://localhost:8080/"
        },
        "outputId": "b8b156df-0da8-4f11-9af9-aff8b6c42f40"
      },
      "outputs": [
        {
          "output_type": "execute_result",
          "data": {
            "text/plain": [
              "112"
            ]
          },
          "metadata": {},
          "execution_count": 11
        }
      ],
      "source": [
        "#Declaration and Use of Variables\n",
        "number2=100\n",
        "number1+number2"
      ]
    },
    {
      "cell_type": "code",
      "execution_count": 12,
      "metadata": {
        "id": "1z1Tyd7cSVdx",
        "colab": {
          "base_uri": "https://localhost:8080/"
        },
        "outputId": "18efb94e-335c-4f6a-d800-ddc620b888fe"
      },
      "outputs": [
        {
          "output_type": "stream",
          "name": "stdout",
          "text": [
            "The total of the sum is - 15\n"
          ]
        }
      ],
      "source": [
        "#Declaration and use of variables\n",
        "num1=10\n",
        "num2=5\n",
        "sum=num1+num2\n",
        "print(\"The total of the sum is -\", sum)"
      ]
    },
    {
      "cell_type": "code",
      "execution_count": 13,
      "metadata": {
        "id": "KgVWuz9tZTtb",
        "colab": {
          "base_uri": "https://localhost:8080/"
        },
        "outputId": "2afcca6f-77ee-40a1-ee09-b036de7a6806"
      },
      "outputs": [
        {
          "output_type": "stream",
          "name": "stdout",
          "text": [
            "Noelli\n",
            "<class 'str'>\n"
          ]
        }
      ],
      "source": [
        "#Checking data type\n",
        "myName=\"Noelli\"\n",
        "print(myName)\n",
        "print(type(myName))\n"
      ]
    },
    {
      "cell_type": "code",
      "execution_count": 14,
      "metadata": {
        "colab": {
          "base_uri": "https://localhost:8080/"
        },
        "id": "T5lQafL5qyyt",
        "outputId": "ef56cff6-0676-4cfc-81c3-f6355fb4a20f"
      },
      "outputs": [
        {
          "output_type": "stream",
          "name": "stdout",
          "text": [
            "Tell me anything...\n",
            "hello\n",
            "Hmm... hello ... Really?\n"
          ]
        }
      ],
      "source": [
        "#Input Function\n",
        "print(\"Tell me anything...\")\n",
        "anything = input()\n",
        "print(\"Hmm...\", anything, \"... Really?\")\n"
      ]
    },
    {
      "cell_type": "code",
      "execution_count": 15,
      "metadata": {
        "id": "EX3pKiNdZ1NB",
        "colab": {
          "base_uri": "https://localhost:8080/"
        },
        "outputId": "7569764b-7563-4f75-df5d-7df2214ca9fd"
      },
      "outputs": [
        {
          "output_type": "stream",
          "name": "stdout",
          "text": [
            "6\n"
          ]
        }
      ],
      "source": [
        "#Lengh function\n",
        "print(len(myName))"
      ]
    },
    {
      "cell_type": "code",
      "execution_count": 16,
      "metadata": {
        "id": "9Zt_rl_4cQis",
        "colab": {
          "base_uri": "https://localhost:8080/"
        },
        "outputId": "31981792-1dd0-4650-baa4-4f525204f6df"
      },
      "outputs": [
        {
          "output_type": "stream",
          "name": "stdout",
          "text": [
            "Write your name: Noelli\n",
            "Write your age: 36\n",
            "This is the user Name:  Noelli\n",
            "The user age is  37 years old.\n"
          ]
        }
      ],
      "source": [
        "#Using input/ integer data type and increase one year at age\n",
        "Name = input(\"Write your name: \")\n",
        "Age = int(input(\"Write your age: \"))\n",
        "\n",
        "print(\"This is the user Name: \", Name)\n",
        "print(\"The user age is \", Age + 1, \"years old.\")\n"
      ]
    },
    {
      "cell_type": "code",
      "execution_count": 17,
      "metadata": {
        "id": "aIbZPzbs1Cj-",
        "colab": {
          "base_uri": "https://localhost:8080/"
        },
        "outputId": "1ee7e9d7-9973-4921-e5a7-e1083d80f845"
      },
      "outputs": [
        {
          "output_type": "stream",
          "name": "stdout",
          "text": [
            "Enter a number: 6\n",
            "Positive Number\n"
          ]
        }
      ],
      "source": [
        "#Activity - Python Program to check if a number is Positive or Negative (using if statement)\n",
        "try:\n",
        " number = int (input(\"Enter a number: \"))\n",
        " if number > 0:\n",
        "  print(\"Positive Number\")\n",
        " elif number==0:\n",
        "  print(\"The number is equal Zero\")\n",
        " else:\n",
        "  print(\"Negative Number\")\n",
        "except:\n",
        " print(\"This is not a number!\")"
      ]
    },
    {
      "cell_type": "code",
      "execution_count": 18,
      "metadata": {
        "id": "pnySNI4y6ZTl",
        "colab": {
          "base_uri": "https://localhost:8080/"
        },
        "outputId": "8ca838e3-2211-4cda-ecd9-b2be9648f503"
      },
      "outputs": [
        {
          "output_type": "stream",
          "name": "stdout",
          "text": [
            "Enter a number: 9\n",
            "This is an Odd Number!\n"
          ]
        }
      ],
      "source": [
        "#Activity - Python Program to check if a number is Odd or Even (using if statement)\n",
        "try:\n",
        "  numberc = int (input(\"Enter a number: \"))\n",
        "  if numberc % 2 == 0:\n",
        "   print(\"This is an Even Number!\")\n",
        "  else:\n",
        "   print(\"This is an Odd Number!\")\n",
        "except:\n",
        " print(\"This is not a number!\")"
      ]
    },
    {
      "cell_type": "code",
      "execution_count": 19,
      "metadata": {
        "id": "sCFmoRS2_je8",
        "colab": {
          "base_uri": "https://localhost:8080/"
        },
        "outputId": "8c6a57c2-5c93-4ee4-b6d7-d20911b0f95f"
      },
      "outputs": [
        {
          "output_type": "stream",
          "name": "stdout",
          "text": [
            "1\n",
            "2\n",
            "3\n",
            "4\n",
            "5\n",
            "The loop stopped!\n"
          ]
        }
      ],
      "source": [
        "#While Loop - Print a number as long as it is less than 6\n",
        "i=1\n",
        "while i<6:\n",
        "  print(i)\n",
        "  i=i+1\n",
        "print(\"The loop stopped!\")"
      ]
    },
    {
      "cell_type": "code",
      "execution_count": 20,
      "metadata": {
        "id": "QnS8NJ1agZ2U",
        "colab": {
          "base_uri": "https://localhost:8080/"
        },
        "outputId": "90a61f03-73c5-442e-99ef-7eba688370cf"
      },
      "outputs": [
        {
          "output_type": "stream",
          "name": "stdout",
          "text": [
            "1\n",
            "2\n",
            "3\n"
          ]
        }
      ],
      "source": [
        "#While condition with a break statement - That will stop the program, even though its still True\n",
        "i=1\n",
        "while i<6:\n",
        "  print(i)\n",
        "  if i==3:\n",
        "   break\n",
        "  i=i+1"
      ]
    },
    {
      "cell_type": "code",
      "execution_count": 21,
      "metadata": {
        "id": "7tm5zT55AQI-",
        "colab": {
          "base_uri": "https://localhost:8080/"
        },
        "outputId": "8d9da99e-1fee-4587-9fba-fc1c62fd44bc"
      },
      "outputs": [
        {
          "output_type": "stream",
          "name": "stdout",
          "text": [
            "1\n",
            "3\n",
            "5\n",
            "7\n",
            "9\n"
          ]
        }
      ],
      "source": [
        "#While loop with increase and condition (only printing odd number from 1 to 10) - can be descrease as well\n",
        "i=0\n",
        "while i<10:\n",
        "  i=i+1\n",
        "  if i% 2 != 0:\n",
        "      print(i)"
      ]
    },
    {
      "cell_type": "code",
      "execution_count": 23,
      "metadata": {
        "id": "AFDV5jIJjgix",
        "colab": {
          "base_uri": "https://localhost:8080/"
        },
        "outputId": "4f85640c-9dce-46a3-8339-fac3e3ba5437"
      },
      "outputs": [
        {
          "output_type": "stream",
          "name": "stdout",
          "text": [
            "Choose a number between 1-50: 12\n",
            "Little Lower, try it again!\n",
            "Choose a number between 1-50: 20\n",
            "Little Higher, try it again!\n",
            "Choose a number between 1-50: 15\n",
            "Little Higher, try it again!\n",
            "Choose a number between 1-50: 14\n",
            "You did it!\n",
            "The right number is:  14\n"
          ]
        }
      ],
      "source": [
        "#Guessing a number Game - Using a random number\n",
        "\n",
        "import random\n",
        "Rguess = random.randint(1, 50)\n",
        "\n",
        "while True:\n",
        " userNum=int(input(\"Choose a number between 1-50: \"))\n",
        " if userNum < Rguess:\n",
        "    print(\"Little Lower, try it again!\")\n",
        " elif userNum > Rguess:\n",
        "    print(\"Little Higher, try it again!\")\n",
        " else:\n",
        "    print(\"You did it!\\nThe right number is: \", Rguess)\n",
        "    break"
      ]
    },
    {
      "cell_type": "code",
      "execution_count": 24,
      "metadata": {
        "id": "PO9lCltoKF03",
        "colab": {
          "base_uri": "https://localhost:8080/"
        },
        "outputId": "6951e6fa-0900-4ad8-a46d-b72ca212929d"
      },
      "outputs": [
        {
          "output_type": "execute_result",
          "data": {
            "text/plain": [
              "list"
            ]
          },
          "metadata": {},
          "execution_count": 24
        }
      ],
      "source": [
        "#List structure\n",
        "student_list=['Daniel', 'Brian', 'Maurizio']\n",
        "type(student_list)"
      ]
    },
    {
      "cell_type": "code",
      "execution_count": 25,
      "metadata": {
        "id": "xlqnQMwgKhZM",
        "colab": {
          "base_uri": "https://localhost:8080/"
        },
        "outputId": "594006f7-8914-4421-a376-b912fef3635a"
      },
      "outputs": [
        {
          "output_type": "stream",
          "name": "stdout",
          "text": [
            "Daniel is a student in the Python Course\n",
            "Brian is a student in the Python Course\n",
            "Maurizio is a student in the Python Course\n"
          ]
        }
      ],
      "source": [
        "#For Loop wihtin a list\n",
        "for student in student_list:\n",
        "  print(student, \"is a student in the Python Course\")"
      ]
    },
    {
      "cell_type": "code",
      "execution_count": 26,
      "metadata": {
        "id": "BblfZKDsr43K",
        "colab": {
          "base_uri": "https://localhost:8080/"
        },
        "outputId": "cd8a2bfa-ad33-4367-ac64-c1042dd7f0ec"
      },
      "outputs": [
        {
          "output_type": "stream",
          "name": "stdout",
          "text": [
            "b\n",
            "a\n",
            "n\n",
            "a\n",
            "n\n",
            "a\n"
          ]
        }
      ],
      "source": [
        "#Loop through the letters in the word \"banana\"\n",
        "fruit=\"banana\"\n",
        "for letter in fruit:\n",
        " print(letter)"
      ]
    },
    {
      "cell_type": "code",
      "execution_count": 27,
      "metadata": {
        "id": "PrhA-En1uD66",
        "colab": {
          "base_uri": "https://localhost:8080/"
        },
        "outputId": "abdd8e41-6e9d-4446-c2da-248af98f168f"
      },
      "outputs": [
        {
          "output_type": "stream",
          "name": "stdout",
          "text": [
            "0\n",
            "1\n",
            "2\n",
            "3\n",
            "4\n",
            "5\n",
            "6\n",
            "7\n",
            "8\n",
            "9\n",
            "10\n",
            "11\n",
            "12\n",
            "13\n",
            "14\n",
            "15\n",
            "16\n",
            "17\n",
            "18\n",
            "19\n",
            "20\n",
            "21\n",
            "22\n",
            "23\n",
            "24\n",
            "25\n",
            "26\n",
            "27\n",
            "28\n",
            "29\n",
            "30\n",
            "31\n",
            "32\n",
            "33\n",
            "34\n",
            "35\n",
            "36\n",
            "37\n",
            "38\n",
            "39\n",
            "40\n",
            "41\n",
            "42\n",
            "43\n",
            "44\n",
            "45\n",
            "46\n",
            "47\n",
            "48\n",
            "49\n",
            "50\n"
          ]
        }
      ],
      "source": [
        "#Write a Python program to print numbers from 1 to 50\n",
        "for numb in range (0,51,1):\n",
        " print(numb)"
      ]
    },
    {
      "cell_type": "code",
      "execution_count": 28,
      "metadata": {
        "id": "wbTzjyS3L5hp",
        "colab": {
          "base_uri": "https://localhost:8080/"
        },
        "outputId": "da3e1c23-6ecf-45d0-dcca-8841f3c180ac"
      },
      "outputs": [
        {
          "output_type": "stream",
          "name": "stdout",
          "text": [
            "0\n",
            "3\n",
            "6\n",
            "9\n",
            "12\n",
            "15\n",
            "18\n",
            "21\n",
            "24\n",
            "27\n",
            "30\n",
            "33\n",
            "36\n",
            "39\n",
            "42\n",
            "45\n",
            "48\n"
          ]
        }
      ],
      "source": [
        "#For Loop with Range function and step - increase 3 by 3 in this case\n",
        "for items in range (0,50,3):\n",
        "  print(items)"
      ]
    },
    {
      "cell_type": "code",
      "execution_count": 29,
      "metadata": {
        "id": "NfJYWbtFv-bQ",
        "colab": {
          "base_uri": "https://localhost:8080/"
        },
        "outputId": "2841f1f3-38a6-4fd3-dc2b-c823a2e0f20c"
      },
      "outputs": [
        {
          "output_type": "stream",
          "name": "stdout",
          "text": [
            "0\n",
            "3\n",
            "6\n",
            "9\n",
            "12\n",
            "15\n",
            "18\n",
            "21\n",
            "24\n",
            "27\n",
            "30\n",
            "33\n",
            "36\n",
            "39\n",
            "42\n",
            "45\n",
            "48\n"
          ]
        }
      ],
      "source": [
        "#Another way to do the previous loop\n",
        "nums = range(0,51,3)\n",
        "for n in nums:\n",
        "  print(n)"
      ]
    },
    {
      "cell_type": "code",
      "execution_count": 30,
      "metadata": {
        "id": "CSUZiBRDuuOm",
        "colab": {
          "base_uri": "https://localhost:8080/"
        },
        "outputId": "f8c9c7be-bc37-4dd4-8f50-82aaf7252509"
      },
      "outputs": [
        {
          "output_type": "stream",
          "name": "stdout",
          "text": [
            "0\n",
            "2\n",
            "4\n",
            "6\n",
            "8\n",
            "10\n",
            "12\n",
            "14\n",
            "16\n",
            "18\n",
            "20\n",
            "22\n",
            "24\n",
            "26\n",
            "28\n",
            "30\n",
            "32\n",
            "34\n",
            "36\n",
            "38\n",
            "40\n",
            "42\n",
            "44\n",
            "46\n",
            "48\n",
            "50\n",
            "52\n",
            "54\n",
            "56\n",
            "58\n",
            "60\n",
            "62\n",
            "64\n",
            "66\n",
            "68\n",
            "70\n",
            "72\n",
            "74\n",
            "76\n",
            "78\n",
            "80\n",
            "82\n",
            "84\n",
            "86\n",
            "88\n",
            "90\n",
            "92\n",
            "94\n",
            "96\n",
            "98\n",
            "100\n"
          ]
        }
      ],
      "source": [
        "#Write a code to print all even numbers from 0 to 100\n",
        "for numbs in range(0,101,2):\n",
        " print(numbs)\n"
      ]
    },
    {
      "cell_type": "code",
      "execution_count": 31,
      "metadata": {
        "id": "YwD0o1F8wSva",
        "colab": {
          "base_uri": "https://localhost:8080/"
        },
        "outputId": "ce38f6ae-25dc-439b-ddd2-dfc9792b3e77"
      },
      "outputs": [
        {
          "output_type": "stream",
          "name": "stdout",
          "text": [
            "1\n",
            "3\n",
            "5\n",
            "7\n",
            "9\n",
            "11\n",
            "13\n",
            "15\n",
            "17\n",
            "19\n",
            "21\n",
            "23\n",
            "25\n",
            "27\n",
            "29\n",
            "31\n",
            "33\n",
            "35\n",
            "37\n",
            "39\n",
            "41\n",
            "43\n",
            "45\n",
            "47\n",
            "49\n"
          ]
        }
      ],
      "source": [
        "#Write a Python program to print odd numbers from 1 to 50\n",
        "for num in range(1,50,2):\n",
        "  print(num)"
      ]
    },
    {
      "cell_type": "code",
      "execution_count": 32,
      "metadata": {
        "id": "irAuP8c8ReRW",
        "colab": {
          "base_uri": "https://localhost:8080/"
        },
        "outputId": "71b9de01-82f6-42bb-d038-939e1d9b0d62"
      },
      "outputs": [
        {
          "output_type": "stream",
          "name": "stdout",
          "text": [
            "1\n",
            "2\n",
            "Fizz\n",
            "4\n",
            "Buzz\n",
            "Fizz\n",
            "7\n",
            "8\n",
            "Fizz\n",
            "Buzz\n",
            "11\n",
            "Fizz\n",
            "13\n",
            "14\n",
            "FizzBuzz\n",
            "16\n",
            "17\n",
            "Fizz\n",
            "19\n",
            "Buzz\n",
            "Fizz\n",
            "22\n",
            "23\n",
            "Fizz\n",
            "Buzz\n",
            "26\n",
            "Fizz\n",
            "28\n",
            "29\n",
            "FizzBuzz\n",
            "31\n",
            "32\n",
            "Fizz\n",
            "34\n",
            "Buzz\n",
            "Fizz\n",
            "37\n",
            "38\n",
            "Fizz\n",
            "Buzz\n",
            "41\n",
            "Fizz\n",
            "43\n",
            "44\n",
            "FizzBuzz\n",
            "46\n",
            "47\n",
            "Fizz\n",
            "49\n",
            "Buzz\n",
            "Fizz\n",
            "52\n",
            "53\n",
            "Fizz\n",
            "Buzz\n",
            "56\n",
            "Fizz\n",
            "58\n",
            "59\n",
            "FizzBuzz\n",
            "61\n",
            "62\n",
            "Fizz\n",
            "64\n",
            "Buzz\n",
            "Fizz\n",
            "67\n",
            "68\n",
            "Fizz\n",
            "Buzz\n",
            "71\n",
            "Fizz\n",
            "73\n",
            "74\n",
            "FizzBuzz\n",
            "76\n",
            "77\n",
            "Fizz\n",
            "79\n",
            "Buzz\n",
            "Fizz\n",
            "82\n",
            "83\n",
            "Fizz\n",
            "Buzz\n",
            "86\n",
            "Fizz\n",
            "88\n",
            "89\n",
            "FizzBuzz\n",
            "91\n",
            "92\n",
            "Fizz\n",
            "94\n",
            "Buzz\n",
            "Fizz\n",
            "97\n",
            "98\n",
            "Fizz\n",
            "Buzz\n"
          ]
        }
      ],
      "source": [
        "#FizzBuzz Game - From 1 to 100/ If a number is divisible by 3, print \"fizz.\"/ If a number is divisible by 5, print \"buzz.\"\n",
        "#If a number is both divisible by 3 and by 5, print \"fizzbuzz.\" Otherwise, print just the number\n",
        "for numbers in range (1,101):\n",
        " if numbers%3==0 and numbers%5==0:\n",
        "  print(\"FizzBuzz\")\n",
        " elif numbers%5==0:\n",
        "  print(\"Buzz\")\n",
        " elif numbers%3==0:\n",
        "  print(\"Fizz\")\n",
        " else:\n",
        "  print(numbers)\n"
      ]
    }
  ],
  "metadata": {
    "colab": {
      "provenance": []
    },
    "kernelspec": {
      "display_name": "Python 3",
      "name": "python3"
    },
    "language_info": {
      "name": "python"
    }
  },
  "nbformat": 4,
  "nbformat_minor": 0
}